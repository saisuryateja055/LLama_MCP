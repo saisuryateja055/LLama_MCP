{
  "nbformat": 4,
  "nbformat_minor": 0,
  "metadata": {
    "colab": {
      "provenance": []
    },
    "kernelspec": {
      "name": "python3",
      "display_name": "Python 3"
    },
    "language_info": {
      "name": "python"
    }
  },
  "cells": [
    {
      "cell_type": "code",
      "source": [
        "pip install langchain_core langchain_groq mcp"
      ],
      "metadata": {
        "colab": {
          "base_uri": "https://localhost:8080/"
        },
        "id": "vTL9IRdgB5q6",
        "outputId": "5822ac70-cd51-464d-cdc2-be48d4766c0d"
      },
      "execution_count": null,
      "outputs": [
        {
          "output_type": "stream",
          "name": "stdout",
          "text": [
            "Requirement already satisfied: langchain_core in /usr/local/lib/python3.11/dist-packages (0.3.60)\n",
            "Collecting langchain_groq\n",
            "  Downloading langchain_groq-0.3.2-py3-none-any.whl.metadata (2.6 kB)\n",
            "Collecting mcp\n",
            "  Downloading mcp-1.9.2-py3-none-any.whl.metadata (28 kB)\n",
            "Requirement already satisfied: langsmith<0.4,>=0.1.126 in /usr/local/lib/python3.11/dist-packages (from langchain_core) (0.3.42)\n",
            "Requirement already satisfied: tenacity!=8.4.0,<10.0.0,>=8.1.0 in /usr/local/lib/python3.11/dist-packages (from langchain_core) (9.1.2)\n",
            "Requirement already satisfied: jsonpatch<2.0,>=1.33 in /usr/local/lib/python3.11/dist-packages (from langchain_core) (1.33)\n",
            "Requirement already satisfied: PyYAML>=5.3 in /usr/local/lib/python3.11/dist-packages (from langchain_core) (6.0.2)\n",
            "Requirement already satisfied: packaging<25,>=23.2 in /usr/local/lib/python3.11/dist-packages (from langchain_core) (24.2)\n",
            "Requirement already satisfied: typing-extensions>=4.7 in /usr/local/lib/python3.11/dist-packages (from langchain_core) (4.13.2)\n",
            "Requirement already satisfied: pydantic>=2.7.4 in /usr/local/lib/python3.11/dist-packages (from langchain_core) (2.11.4)\n",
            "Collecting groq<1,>=0.4.1 (from langchain_groq)\n",
            "  Downloading groq-0.25.0-py3-none-any.whl.metadata (15 kB)\n",
            "Requirement already satisfied: anyio>=4.5 in /usr/local/lib/python3.11/dist-packages (from mcp) (4.9.0)\n",
            "Collecting httpx-sse>=0.4 (from mcp)\n",
            "  Downloading httpx_sse-0.4.0-py3-none-any.whl.metadata (9.0 kB)\n",
            "Requirement already satisfied: httpx>=0.27 in /usr/local/lib/python3.11/dist-packages (from mcp) (0.28.1)\n",
            "Collecting pydantic-settings>=2.5.2 (from mcp)\n",
            "  Downloading pydantic_settings-2.9.1-py3-none-any.whl.metadata (3.8 kB)\n",
            "Collecting python-multipart>=0.0.9 (from mcp)\n",
            "  Downloading python_multipart-0.0.20-py3-none-any.whl.metadata (1.8 kB)\n",
            "Collecting sse-starlette>=1.6.1 (from mcp)\n",
            "  Downloading sse_starlette-2.3.5-py3-none-any.whl.metadata (7.8 kB)\n",
            "Collecting starlette>=0.27 (from mcp)\n",
            "  Downloading starlette-0.47.0-py3-none-any.whl.metadata (6.2 kB)\n",
            "Collecting uvicorn>=0.23.1 (from mcp)\n",
            "  Downloading uvicorn-0.34.2-py3-none-any.whl.metadata (6.5 kB)\n",
            "Requirement already satisfied: idna>=2.8 in /usr/local/lib/python3.11/dist-packages (from anyio>=4.5->mcp) (3.10)\n",
            "Requirement already satisfied: sniffio>=1.1 in /usr/local/lib/python3.11/dist-packages (from anyio>=4.5->mcp) (1.3.1)\n",
            "Requirement already satisfied: distro<2,>=1.7.0 in /usr/local/lib/python3.11/dist-packages (from groq<1,>=0.4.1->langchain_groq) (1.9.0)\n",
            "Requirement already satisfied: certifi in /usr/local/lib/python3.11/dist-packages (from httpx>=0.27->mcp) (2025.4.26)\n",
            "Requirement already satisfied: httpcore==1.* in /usr/local/lib/python3.11/dist-packages (from httpx>=0.27->mcp) (1.0.9)\n",
            "Requirement already satisfied: h11>=0.16 in /usr/local/lib/python3.11/dist-packages (from httpcore==1.*->httpx>=0.27->mcp) (0.16.0)\n",
            "Requirement already satisfied: jsonpointer>=1.9 in /usr/local/lib/python3.11/dist-packages (from jsonpatch<2.0,>=1.33->langchain_core) (3.0.0)\n",
            "Requirement already satisfied: orjson<4.0.0,>=3.9.14 in /usr/local/lib/python3.11/dist-packages (from langsmith<0.4,>=0.1.126->langchain_core) (3.10.18)\n",
            "Requirement already satisfied: requests<3,>=2 in /usr/local/lib/python3.11/dist-packages (from langsmith<0.4,>=0.1.126->langchain_core) (2.32.3)\n",
            "Requirement already satisfied: requests-toolbelt<2.0.0,>=1.0.0 in /usr/local/lib/python3.11/dist-packages (from langsmith<0.4,>=0.1.126->langchain_core) (1.0.0)\n",
            "Requirement already satisfied: zstandard<0.24.0,>=0.23.0 in /usr/local/lib/python3.11/dist-packages (from langsmith<0.4,>=0.1.126->langchain_core) (0.23.0)\n",
            "Requirement already satisfied: annotated-types>=0.6.0 in /usr/local/lib/python3.11/dist-packages (from pydantic>=2.7.4->langchain_core) (0.7.0)\n",
            "Requirement already satisfied: pydantic-core==2.33.2 in /usr/local/lib/python3.11/dist-packages (from pydantic>=2.7.4->langchain_core) (2.33.2)\n",
            "Requirement already satisfied: typing-inspection>=0.4.0 in /usr/local/lib/python3.11/dist-packages (from pydantic>=2.7.4->langchain_core) (0.4.1)\n",
            "Collecting python-dotenv>=0.21.0 (from pydantic-settings>=2.5.2->mcp)\n",
            "  Downloading python_dotenv-1.1.0-py3-none-any.whl.metadata (24 kB)\n",
            "Requirement already satisfied: click>=7.0 in /usr/local/lib/python3.11/dist-packages (from uvicorn>=0.23.1->mcp) (8.2.1)\n",
            "Requirement already satisfied: charset-normalizer<4,>=2 in /usr/local/lib/python3.11/dist-packages (from requests<3,>=2->langsmith<0.4,>=0.1.126->langchain_core) (3.4.2)\n",
            "Requirement already satisfied: urllib3<3,>=1.21.1 in /usr/local/lib/python3.11/dist-packages (from requests<3,>=2->langsmith<0.4,>=0.1.126->langchain_core) (2.4.0)\n",
            "Downloading langchain_groq-0.3.2-py3-none-any.whl (15 kB)\n",
            "Downloading mcp-1.9.2-py3-none-any.whl (131 kB)\n",
            "\u001b[2K   \u001b[90m━━━━━━━━━━━━━━━━━━━━━━━━━━━━━━━━━━━━━━━━\u001b[0m \u001b[32m131.1/131.1 kB\u001b[0m \u001b[31m10.3 MB/s\u001b[0m eta \u001b[36m0:00:00\u001b[0m\n",
            "\u001b[?25hDownloading groq-0.25.0-py3-none-any.whl (129 kB)\n",
            "\u001b[2K   \u001b[90m━━━━━━━━━━━━━━━━━━━━━━━━━━━━━━━━━━━━━━━━\u001b[0m \u001b[32m129.4/129.4 kB\u001b[0m \u001b[31m11.6 MB/s\u001b[0m eta \u001b[36m0:00:00\u001b[0m\n",
            "\u001b[?25hDownloading httpx_sse-0.4.0-py3-none-any.whl (7.8 kB)\n",
            "Downloading pydantic_settings-2.9.1-py3-none-any.whl (44 kB)\n",
            "\u001b[2K   \u001b[90m━━━━━━━━━━━━━━━━━━━━━━━━━━━━━━━━━━━━━━━━\u001b[0m \u001b[32m44.4/44.4 kB\u001b[0m \u001b[31m3.7 MB/s\u001b[0m eta \u001b[36m0:00:00\u001b[0m\n",
            "\u001b[?25hDownloading python_multipart-0.0.20-py3-none-any.whl (24 kB)\n",
            "Downloading sse_starlette-2.3.5-py3-none-any.whl (10 kB)\n",
            "Downloading starlette-0.47.0-py3-none-any.whl (72 kB)\n",
            "\u001b[2K   \u001b[90m━━━━━━━━━━━━━━━━━━━━━━━━━━━━━━━━━━━━━━━━\u001b[0m \u001b[32m72.8/72.8 kB\u001b[0m \u001b[31m6.5 MB/s\u001b[0m eta \u001b[36m0:00:00\u001b[0m\n",
            "\u001b[?25hDownloading uvicorn-0.34.2-py3-none-any.whl (62 kB)\n",
            "\u001b[2K   \u001b[90m━━━━━━━━━━━━━━━━━━━━━━━━━━━━━━━━━━━━━━━━\u001b[0m \u001b[32m62.5/62.5 kB\u001b[0m \u001b[31m5.7 MB/s\u001b[0m eta \u001b[36m0:00:00\u001b[0m\n",
            "\u001b[?25hDownloading python_dotenv-1.1.0-py3-none-any.whl (20 kB)\n",
            "Installing collected packages: uvicorn, python-multipart, python-dotenv, httpx-sse, starlette, sse-starlette, pydantic-settings, groq, mcp, langchain_groq\n",
            "Successfully installed groq-0.25.0 httpx-sse-0.4.0 langchain_groq-0.3.2 mcp-1.9.2 pydantic-settings-2.9.1 python-dotenv-1.1.0 python-multipart-0.0.20 sse-starlette-2.3.5 starlette-0.47.0 uvicorn-0.34.2\n"
          ]
        }
      ]
    },
    {
      "cell_type": "code",
      "execution_count": null,
      "metadata": {
        "id": "ZqrNnQFUBlP_"
      },
      "outputs": [],
      "source": [
        "import os\n",
        "import getpass\n",
        "import requests\n",
        "import json\n",
        "import asyncio\n",
        "from langchain_groq import ChatGroq\n",
        "from langchain.memory import ConversationSummaryMemory\n",
        "from langchain_core.prompts import ChatPromptTemplate, MessagesPlaceholder\n",
        "from langchain.chains import ConversationChain\n",
        "from mcp.client.stdio import stdio_client\n",
        "from mcp import ClientSession, StdioServerParameters\n",
        "\n",
        "# Set up API keys\n",
        "if \"GROQ_API_KEY\" not in os.environ:\n",
        "    os.environ[\"GROQ_API_KEY\"] =\"\"\n",
        "if \"GOOGLE_API_KEY\" not in os.environ:\n",
        "    os.environ[\"GOOGLE_API_KEY\"] = \"\"\n",
        "if \"GOOGLE_CSE_ID\" not in os.environ:\n",
        "    os.environ[\"GOOGLE_CSE_ID\"] =\"\"\n",
        "# Initialize the ChatGroq model\n",
        "llm = ChatGroq(\n",
        "    model=\"meta-llama/llama-4-scout-17b-16e-instruct\",\n",
        "    temperature=0.5,\n",
        "    max_tokens=1000,\n",
        "    timeout=None,\n",
        "    max_retries=2\n",
        ")\n",
        "\n",
        "# Set up memory to store summarized conversation history\n",
        "memory = ConversationSummaryMemory(\n",
        "    llm=llm,\n",
        "    return_messages=True\n",
        ")\n",
        "\n",
        "# Define the prompt template with legal assistant tone and PSE integration\n",
        "prompt = ChatPromptTemplate.from_messages([\n",
        "    (\"system\", \"You are a highly qualified legal assistant with expertise in providing accurate and precise legal information. Respond to all inquiries using formal legal terminology, maintaining a professional and objective tone. Provide clear, concise, and well-reasoned answers, citing relevant legal principles or concepts where applicable. When relevant, incorporate real-time search results from the Google Programmable Search Engine (accessed via MCP) to provide up-to-date legal information, citing sources where applicable. If a question falls outside your knowledge or requires specific jurisdictional details, advise the user to consult a licensed attorney. Use the summarized conversation history to ensure continuity and context in responses.\"),\n",
        "    MessagesPlaceholder(variable_name=\"history\"),\n",
        "    (\"human\", \"{user_input}\")\n",
        "])\n",
        "\n",
        "# Create a conversation chain with memory\n",
        "chain = ConversationChain(\n",
        "    llm=llm,\n",
        "    prompt=prompt,\n",
        "    memory=memory,\n",
        "    input_key=\"user_input\",\n",
        "    verbose=False  # Disable verbose logging to suppress summary output\n",
        ")\n",
        "\n",
        "\n",
        "\n",
        "\n"
      ]
    },
    {
      "cell_type": "code",
      "source": [
        "\n",
        "\n",
        "# MCP client for Google Programmable Search Engine (simulated)\n",
        "class GooglePSEClient:\n",
        "    def __init__(self):\n",
        "        self.server_params = StdioServerParameters(\n",
        "            command=\"npx\",\n",
        "            args=[\"-y\", \"@modelcontextprotocol/server-google-cse\"],\n",
        "            env={\n",
        "                \"GOOGLE_API_KEY\": os.environ[\"GOOGLE_API_KEY\"],\n",
        "                \"GOOGLE_CSE_ID\": os.environ[\"GOOGLE_CSE_ID\"]\n",
        "            }\n",
        "        )\n",
        "        self.client = None\n",
        "\n",
        "    async def initialize(self):\n",
        "        try:\n",
        "            self.client = stdio_client(self.server_params)\n",
        "            await self.client.initialize()\n",
        "            print(\"MCP client initialized for Google Programmable Search Engine.\")\n",
        "        except Exception as e:\n",
        "            print(f\"Error initializing MCP client: {e}\")\n",
        "\n",
        "    async def search(self, query):\n",
        "        try:\n",
        "            response = await self.client.call_tool(\"search_google_cse\", {\"query\": query})\n",
        "            return response.get(\"results\", [])\n",
        "        except Exception:\n",
        "            # Fallback to direct Custom Search JSON API call\n",
        "            url = \"https://www.googleapis.com/customsearch/v1\"\n",
        "            params = {\n",
        "                \"key\": os.environ[\"GOOGLE_API_KEY\"],\n",
        "                \"cx\": os.environ[\"GOOGLE_CSE_ID\"],\n",
        "                \"q\": query\n",
        "            }\n",
        "            response = requests.get(url, params=params)\n",
        "            if response.status_code == 200:\n",
        "                return response.json().get(\"items\", [])\n",
        "            return []\n",
        "\n",
        "    async def close(self):\n",
        "        if self.client:\n",
        "            await self.client.close()\n",
        "\n",
        "# Interactive conversation loop with MCP integration\n",
        "async def chat_loop():\n",
        "    pse_client = GooglePSEClient()\n",
        "    await pse_client.initialize()\n",
        "\n",
        "    print(\"Legal Assistant activated with Google Programmable Search Engine integration. Please provide your legal query (type 'exit' to quit):\")\n",
        "    while True:\n",
        "        user_input = input(\"You: \")\n",
        "        if user_input.lower() == 'exit':\n",
        "            await pse_client.close()\n",
        "            break\n",
        "\n",
        "        # Check if the query requires a search\n",
        "        if any(keyword in user_input.lower() for keyword in [\"recent\", \"current\", \"latest\"]):\n",
        "            search_results = await pse_client.search(user_input)\n",
        "            context = f\"Search results: {json.dumps(search_results[:2], indent=2)}\"\n",
        "            augmented_input = f\"{user_input}\\n\\nContext from Google Programmable Search Engine: {context}\"\n",
        "        else:\n",
        "            augmented_input = user_input\n",
        "\n",
        "        response = chain.invoke({\"user_input\": augmented_input})\n",
        "        print(\"Legal Assistant:\", response['response'])"
      ],
      "metadata": {
        "id": "G2Do0WrMCddD"
      },
      "execution_count": null,
      "outputs": []
    },
    {
      "cell_type": "code",
      "source": [],
      "metadata": {
        "colab": {
          "base_uri": "https://localhost:8080/",
          "height": 339
        },
        "collapsed": true,
        "id": "aJ5S4WwKDfvK",
        "outputId": "62e6ddb8-326e-4afa-9f1a-6126e26471c5"
      },
      "execution_count": null,
      "outputs": [
        {
          "name": "stdout",
          "output_type": "stream",
          "text": [
            "Error initializing MCP client: '_AsyncGeneratorContextManager' object has no attribute 'initialize'\n",
            "Legal Assistant activated with Google Programmable Search Engine integration. Please provide your legal query (type 'exit' to quit):\n",
            "You: exit\n"
          ]
        },
        {
          "output_type": "error",
          "ename": "AttributeError",
          "evalue": "'_AsyncGeneratorContextManager' object has no attribute 'close'",
          "traceback": [
            "\u001b[0;31m---------------------------------------------------------------------------\u001b[0m",
            "\u001b[0;31mAttributeError\u001b[0m                            Traceback (most recent call last)",
            "\u001b[0;32m<ipython-input-13-bf052dc74fb9>\u001b[0m in \u001b[0;36m<cell line: 1>\u001b[0;34m()\u001b[0m\n\u001b[0;32m----> 1\u001b[0;31m \u001b[0;32mawait\u001b[0m \u001b[0mchat_loop\u001b[0m\u001b[0;34m(\u001b[0m\u001b[0;34m)\u001b[0m\u001b[0;34m\u001b[0m\u001b[0;34m\u001b[0m\u001b[0m\n\u001b[0m",
            "\u001b[0;32m<ipython-input-10-0775747fa839>\u001b[0m in \u001b[0;36mchat_loop\u001b[0;34m()\u001b[0m\n\u001b[1;32m     50\u001b[0m         \u001b[0muser_input\u001b[0m \u001b[0;34m=\u001b[0m \u001b[0minput\u001b[0m\u001b[0;34m(\u001b[0m\u001b[0;34m\"You: \"\u001b[0m\u001b[0;34m)\u001b[0m\u001b[0;34m\u001b[0m\u001b[0;34m\u001b[0m\u001b[0m\n\u001b[1;32m     51\u001b[0m         \u001b[0;32mif\u001b[0m \u001b[0muser_input\u001b[0m\u001b[0;34m.\u001b[0m\u001b[0mlower\u001b[0m\u001b[0;34m(\u001b[0m\u001b[0;34m)\u001b[0m \u001b[0;34m==\u001b[0m \u001b[0;34m'exit'\u001b[0m\u001b[0;34m:\u001b[0m\u001b[0;34m\u001b[0m\u001b[0;34m\u001b[0m\u001b[0m\n\u001b[0;32m---> 52\u001b[0;31m             \u001b[0;32mawait\u001b[0m \u001b[0mpse_client\u001b[0m\u001b[0;34m.\u001b[0m\u001b[0mclose\u001b[0m\u001b[0;34m(\u001b[0m\u001b[0;34m)\u001b[0m\u001b[0;34m\u001b[0m\u001b[0;34m\u001b[0m\u001b[0m\n\u001b[0m\u001b[1;32m     53\u001b[0m             \u001b[0;32mbreak\u001b[0m\u001b[0;34m\u001b[0m\u001b[0;34m\u001b[0m\u001b[0m\n\u001b[1;32m     54\u001b[0m \u001b[0;34m\u001b[0m\u001b[0m\n",
            "\u001b[0;32m<ipython-input-10-0775747fa839>\u001b[0m in \u001b[0;36mclose\u001b[0;34m(self)\u001b[0m\n\u001b[1;32m     39\u001b[0m     \u001b[0;32masync\u001b[0m \u001b[0;32mdef\u001b[0m \u001b[0mclose\u001b[0m\u001b[0;34m(\u001b[0m\u001b[0mself\u001b[0m\u001b[0;34m)\u001b[0m\u001b[0;34m:\u001b[0m\u001b[0;34m\u001b[0m\u001b[0;34m\u001b[0m\u001b[0m\n\u001b[1;32m     40\u001b[0m         \u001b[0;32mif\u001b[0m \u001b[0mself\u001b[0m\u001b[0;34m.\u001b[0m\u001b[0mclient\u001b[0m\u001b[0;34m:\u001b[0m\u001b[0;34m\u001b[0m\u001b[0;34m\u001b[0m\u001b[0m\n\u001b[0;32m---> 41\u001b[0;31m             \u001b[0;32mawait\u001b[0m \u001b[0mself\u001b[0m\u001b[0;34m.\u001b[0m\u001b[0mclient\u001b[0m\u001b[0;34m.\u001b[0m\u001b[0mclose\u001b[0m\u001b[0;34m(\u001b[0m\u001b[0;34m)\u001b[0m\u001b[0;34m\u001b[0m\u001b[0;34m\u001b[0m\u001b[0m\n\u001b[0m\u001b[1;32m     42\u001b[0m \u001b[0;34m\u001b[0m\u001b[0m\n\u001b[1;32m     43\u001b[0m \u001b[0;31m# Interactive conversation loop with MCP integration\u001b[0m\u001b[0;34m\u001b[0m\u001b[0;34m\u001b[0m\u001b[0m\n",
            "\u001b[0;31mAttributeError\u001b[0m: '_AsyncGeneratorContextManager' object has no attribute 'close'"
          ]
        }
      ]
    },
    {
      "cell_type": "code",
      "source": [],
      "metadata": {
        "id": "-ala3CcOCChj"
      },
      "execution_count": null,
      "outputs": []
    }
  ]
}